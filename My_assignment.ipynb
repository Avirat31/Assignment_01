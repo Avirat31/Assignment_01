{
 "cells": [
  {
   "cell_type": "markdown",
   "id": "2ab8cf37-8779-4657-9ede-318b0b5225da",
   "metadata": {},
   "source": [
    "# My Jupyter Notebook on IBM Watson Studio"
   ]
  },
  {
   "cell_type": "markdown",
   "id": "007072a8-cbbb-4e3e-bb85-20aa6cc351a3",
   "metadata": {},
   "source": [
    "**Avirat Sharma**\n",
    "\n",
    "100% Human\n",
    "\n",
    "*I am interested in data science because I love to gain insights from data*"
   ]
  },
  {
   "cell_type": "markdown",
   "id": "9d39d3e4-9728-4e80-ba69-c0d2c11990ac",
   "metadata": {},
   "source": [
    "### The following code tests the Gauss formula"
   ]
  },
  {
   "cell_type": "code",
   "execution_count": 2,
   "id": "dbfa9e1a-f643-458e-b600-effddced0e20",
   "metadata": {},
   "outputs": [
    {
     "data": {
      "text/plain": [
       "True"
      ]
     },
     "execution_count": 2,
     "metadata": {},
     "output_type": "execute_result"
    }
   ],
   "source": [
    "def gauss(n):\n",
    "    return (n*(n+1))/2\n",
    "\n",
    "gauss(100) == sum(range(101))"
   ]
  },
  {
   "cell_type": "markdown",
   "id": "9ed43d1c-ccdf-41df-9448-17e3e7b2649f",
   "metadata": {},
   "source": [
    "***\n",
    "\n",
    "*  **one**\n",
    "*  **two**\n",
    "*  **three**\n",
    "*  **one** \n",
    "*  **two** \n",
    "*  **three**\n",
    "\n",
    "***"
   ]
  },
  {
   "cell_type": "code",
   "execution_count": null,
   "id": "4c455074-89e9-4658-b0f1-716b23adb8f5",
   "metadata": {},
   "outputs": [],
   "source": []
  }
 ],
 "metadata": {
  "kernelspec": {
   "display_name": "Python",
   "language": "python",
   "name": "conda-env-python-py"
  },
  "language_info": {
   "codemirror_mode": {
    "name": "ipython",
    "version": 3
   },
   "file_extension": ".py",
   "mimetype": "text/x-python",
   "name": "python",
   "nbconvert_exporter": "python",
   "pygments_lexer": "ipython3",
   "version": "3.7.12"
  }
 },
 "nbformat": 4,
 "nbformat_minor": 5
}
